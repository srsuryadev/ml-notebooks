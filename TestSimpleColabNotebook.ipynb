{
  "nbformat": 4,
  "nbformat_minor": 0,
  "metadata": {
    "colab": {
      "provenance": [],
      "authorship_tag": "ABX9TyNN2G3OeRP2FdckYxCYI3bE",
      "include_colab_link": true
    },
    "kernelspec": {
      "name": "python3",
      "display_name": "Python 3"
    },
    "language_info": {
      "name": "python"
    }
  },
  "cells": [
    {
      "cell_type": "markdown",
      "metadata": {
        "id": "view-in-github",
        "colab_type": "text"
      },
      "source": [
        "<a href=\"https://colab.research.google.com/github/srsuryadev/ml-notebooks/blob/main/TestSimpleColabNotebook.ipynb\" target=\"_parent\"><img src=\"https://colab.research.google.com/assets/colab-badge.svg\" alt=\"Open In Colab\"/></a>"
      ]
    },
    {
      "cell_type": "code",
      "execution_count": 10,
      "metadata": {
        "colab": {
          "base_uri": "https://localhost:8080/"
        },
        "id": "PYErDOgyn42i",
        "outputId": "27c2fd4e-7608-4963-a67f-126a85002560"
      },
      "outputs": [
        {
          "output_type": "stream",
          "name": "stdout",
          "text": [
            "tensor([7.], dtype=torch.float64)\n",
            "a grad:  None\n",
            "b grad:  None\n",
            "a grad:  tensor([3.3261e-06], dtype=torch.float64)\n",
            "b grad:  tensor([3.3261e-06], dtype=torch.float64)\n"
          ]
        }
      ],
      "source": [
        "import torch\n",
        "\n",
        "a = torch.Tensor([2.0]).double(); a.requires_grad = True\n",
        "b = torch.Tensor([5.0]).double(); b.requires_grad = True\n",
        "\n",
        "neuron = a + b\n",
        "print (neuron.data)\n",
        "\n",
        "output = torch.tanh(neuron)\n",
        "print (\"a grad: \", a.grad); print (\"b grad: \", b.grad)\n",
        "\n",
        "\n",
        "output.backward()\n",
        "\n",
        "print (\"a grad: \", a.grad); print (\"b grad: \", b.grad)\n",
        "\n",
        "\n",
        "\n"
      ]
    }
  ]
}